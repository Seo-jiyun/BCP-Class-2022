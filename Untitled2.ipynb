{
  "nbformat": 4,
  "nbformat_minor": 0,
  "metadata": {
    "colab": {
      "name": "Untitled2.ipynb",
      "provenance": [],
      "collapsed_sections": [],
      "authorship_tag": "ABX9TyMyW4v1xpOkth1wuWTN7g3c",
      "include_colab_link": true
    },
    "kernelspec": {
      "name": "python3",
      "display_name": "Python 3"
    },
    "language_info": {
      "name": "python"
    }
  },
  "cells": [
    {
      "cell_type": "markdown",
      "metadata": {
        "id": "view-in-github",
        "colab_type": "text"
      },
      "source": [
        "<a href=\"https://colab.research.google.com/github/Seo-jiyun/BCP-Class-2022/blob/main/Untitled2.ipynb\" target=\"_parent\"><img src=\"https://colab.research.google.com/assets/colab-badge.svg\" alt=\"Open In Colab\"/></a>"
      ]
    },
    {
      "cell_type": "code",
      "execution_count": null,
      "metadata": {
        "colab": {
          "base_uri": "https://localhost:8080/"
        },
        "id": "E47khn8UFV5o",
        "outputId": "111ced80-cea5-4188-e94d-0f48d33a57af"
      },
      "outputs": [
        {
          "output_type": "stream",
          "name": "stdout",
          "text": [
            "<class 'int'>\n",
            "<class 'float'>\n",
            "<class 'int'>\n",
            "<class 'complex'>\n"
          ]
        }
      ],
      "source": [
        "num1 = 13\n",
        "num2 = 3.14\n",
        "num3 = -5\n",
        "num4 = 3+6j\n",
        "print(type(num1))\n",
        "print(type(num2))\n",
        "print(type(num3))\n",
        "print(type(num4))"
      ]
    },
    {
      "cell_type": "code",
      "source": [
        "string = 'python'\n",
        "print(type(string))"
      ],
      "metadata": {
        "colab": {
          "base_uri": "https://localhost:8080/"
        },
        "id": "WeXkjSG7Fy3W",
        "outputId": "d6d857a5-8d16-40f7-dd8f-e5af9d5f7bd8"
      },
      "execution_count": null,
      "outputs": [
        {
          "output_type": "stream",
          "name": "stdout",
          "text": [
            "<class 'str'>\n"
          ]
        }
      ]
    },
    {
      "cell_type": "code",
      "source": [
        "n= 17\n",
        "id(n)\n",
        "n = \"seventeen\"\n",
        "id(n)"
      ],
      "metadata": {
        "colab": {
          "base_uri": "https://localhost:8080/"
        },
        "id": "faWp9o1FF8Re",
        "outputId": "7985aa81-436c-42d1-8fd7-b2a10ffeca07"
      },
      "execution_count": null,
      "outputs": [
        {
          "output_type": "execute_result",
          "data": {
            "text/plain": [
              "140447934233456"
            ]
          },
          "metadata": {},
          "execution_count": 4
        }
      ]
    },
    {
      "cell_type": "code",
      "source": [
        "x=10\n",
        "y=x\n",
        "print( x is y)\n",
        "print(id(x))\n",
        "print(id(y))\n",
        "y=5\n",
        "\n",
        "print(x)\n",
        "print(y)\n",
        "print(id(x))\n",
        "print(id(y))\n"
      ],
      "metadata": {
        "colab": {
          "base_uri": "https://localhost:8080/"
        },
        "id": "K25TFgEtGJED",
        "outputId": "e1872f7c-3fc7-49fd-f160-b4de3bb4cc03"
      },
      "execution_count": null,
      "outputs": [
        {
          "output_type": "stream",
          "name": "stdout",
          "text": [
            "True\n",
            "93910273248032\n",
            "93910273248032\n",
            "10\n",
            "5\n",
            "93910273248032\n",
            "93910273247872\n"
          ]
        }
      ]
    },
    {
      "cell_type": "code",
      "source": [
        "x=[2,3,4,1,1,10,2]\n",
        "y=x\n",
        "print( x is y)\n",
        "print(id(x))\n",
        "print(id(y))\n",
        "\n",
        "y[2] =15"
      ],
      "metadata": {
        "colab": {
          "base_uri": "https://localhost:8080/"
        },
        "id": "HjzMxvaYGlOO",
        "outputId": "dd2fca53-2916-41a7-8707-9524802a86c0"
      },
      "execution_count": null,
      "outputs": [
        {
          "output_type": "stream",
          "name": "stdout",
          "text": [
            "True\n",
            "140447797355856\n",
            "140447797355856\n"
          ]
        }
      ]
    },
    {
      "cell_type": "code",
      "source": [
        "x= [2,3,4,1,10,2]\n",
        "y=list(x)\n",
        "y[2]=15\n",
        "\n",
        "print(x)\n",
        "print(y)"
      ],
      "metadata": {
        "colab": {
          "base_uri": "https://localhost:8080/"
        },
        "id": "j6EQV2IIHBFe",
        "outputId": "6f9cf13d-6be5-470c-edc5-54603b0b41a7"
      },
      "execution_count": null,
      "outputs": [
        {
          "output_type": "stream",
          "name": "stdout",
          "text": [
            "[2, 3, 4, 1, 10, 2]\n",
            "[2, 3, 15, 1, 10, 2]\n"
          ]
        }
      ]
    },
    {
      "cell_type": "code",
      "source": [
        "A, B = map(int, input().split())\n",
        "print(A+B)"
      ],
      "metadata": {
        "colab": {
          "base_uri": "https://localhost:8080/"
        },
        "id": "TC17k4hmI8uO",
        "outputId": "88520616-4101-4770-e44a-a5ad2bf52637"
      },
      "execution_count": null,
      "outputs": [
        {
          "output_type": "stream",
          "name": "stdout",
          "text": [
            "1 2\n",
            "3\n"
          ]
        }
      ]
    },
    {
      "cell_type": "code",
      "source": [
        "x= int(input())\n",
        "y= int(input())\n",
        "\n",
        "print(x+y)\n",
        "print(x-y)"
      ],
      "metadata": {
        "colab": {
          "base_uri": "https://localhost:8080/"
        },
        "id": "Y-pJv3nJJWzt",
        "outputId": "f0cbcd11-7999-465d-b0e2-a0e4b5bbed10"
      },
      "execution_count": null,
      "outputs": [
        {
          "output_type": "stream",
          "name": "stdout",
          "text": [
            "2\n",
            "4\n",
            "6\n",
            "-2\n"
          ]
        }
      ]
    },
    {
      "cell_type": "code",
      "source": [
        "num1 =int(input())\n",
        "num2 =int(input())\n",
        "num3 =int(input())\n",
        "num4 =int(input())\n",
        "num5 =int(input())\n",
        "feed =int(input())\n",
        "print(f'{int((num2*3000+num3*3000+num4*12000+num5*4000+feed*4000)/num1)}원')"
      ],
      "metadata": {
        "colab": {
          "base_uri": "https://localhost:8080/"
        },
        "id": "DXmsGZ44Qro1",
        "outputId": "f44980b8-93f3-4780-ebba-3824b7379a6f"
      },
      "execution_count": null,
      "outputs": [
        {
          "output_type": "stream",
          "name": "stdout",
          "text": [
            "10\n",
            "2\n",
            "3\n",
            "4\n",
            "5\n",
            "5\n",
            "10300원\n"
          ]
        }
      ]
    }
  ]
}