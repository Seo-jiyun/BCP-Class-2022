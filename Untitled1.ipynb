{
  "nbformat": 4,
  "nbformat_minor": 0,
  "metadata": {
    "colab": {
      "name": "Untitled1.ipynb",
      "provenance": [],
      "authorship_tag": "ABX9TyO8zdZ+sIMUSsUp45trTvJp",
      "include_colab_link": true
    },
    "kernelspec": {
      "name": "python3",
      "display_name": "Python 3"
    },
    "language_info": {
      "name": "python"
    }
  },
  "cells": [
    {
      "cell_type": "markdown",
      "metadata": {
        "id": "view-in-github",
        "colab_type": "text"
      },
      "source": [
        "<a href=\"https://colab.research.google.com/github/Seo-jiyun/BCP-Class-2022/blob/main/Untitled1.ipynb\" target=\"_parent\"><img src=\"https://colab.research.google.com/assets/colab-badge.svg\" alt=\"Open In Colab\"/></a>"
      ]
    },
    {
      "cell_type": "markdown",
      "source": [
        "hello_1.py"
      ],
      "metadata": {
        "id": "bO1EsFwVAiq3"
      }
    },
    {
      "cell_type": "code",
      "execution_count": null,
      "metadata": {
        "colab": {
          "base_uri": "https://localhost:8080/"
        },
        "id": "ISAUMWkaARsa",
        "outputId": "3c6f9a52-3c95-4d4e-d63e-1499e31906e8"
      },
      "outputs": [
        {
          "output_type": "stream",
          "name": "stdout",
          "text": [
            "Hello World\n"
          ]
        }
      ],
      "source": [
        "print('Hello World')"
      ]
    },
    {
      "cell_type": "code",
      "source": [
        "print('헬로 월드')"
      ],
      "metadata": {
        "colab": {
          "base_uri": "https://localhost:8080/"
        },
        "id": "SYrsC4WdBKWK",
        "outputId": "a91ec90e-a88b-40f7-a2bd-ea77281cfd8b"
      },
      "execution_count": null,
      "outputs": [
        {
          "output_type": "stream",
          "name": "stdout",
          "text": [
            "헬로 월드\n"
          ]
        }
      ]
    },
    {
      "cell_type": "markdown",
      "source": [
        "hello_2.py"
      ],
      "metadata": {
        "id": "Urrh7-OfBeE5"
      }
    },
    {
      "cell_type": "code",
      "source": [
        "print('Hello World')\n",
        "print('Hello World')"
      ],
      "metadata": {
        "colab": {
          "base_uri": "https://localhost:8080/"
        },
        "id": "7fnWvngGBPyZ",
        "outputId": "37c384d2-1fef-48e8-b696-f1c1dbd1af90"
      },
      "execution_count": null,
      "outputs": [
        {
          "output_type": "stream",
          "name": "stdout",
          "text": [
            "Hello World\n",
            "Hello World\n"
          ]
        }
      ]
    },
    {
      "cell_type": "markdown",
      "source": [
        "hello_3.py"
      ],
      "metadata": {
        "id": "QvFyzN76B62n"
      }
    },
    {
      "cell_type": "code",
      "source": [
        "def DoubleHello():\n",
        "  print('Hello World')\n",
        "  print('Hello World')\n",
        "\n",
        "DoubleHello()"
      ],
      "metadata": {
        "colab": {
          "base_uri": "https://localhost:8080/"
        },
        "id": "1gc67UvUBjIC",
        "outputId": "60d6524a-5089-45b6-fc86-094459205356"
      },
      "execution_count": null,
      "outputs": [
        {
          "output_type": "stream",
          "name": "stdout",
          "text": [
            "Hello World\n",
            "Hello World\n"
          ]
        }
      ]
    }
  ]
}