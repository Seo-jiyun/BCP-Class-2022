{
  "nbformat": 4,
  "nbformat_minor": 0,
  "metadata": {
    "colab": {
      "name": "myFunctions.ipynb",
      "provenance": [],
      "collapsed_sections": [],
      "authorship_tag": "ABX9TyPj/P/vS19fs6LxbsXc56Gp",
      "include_colab_link": true
    },
    "kernelspec": {
      "name": "python3",
      "display_name": "Python 3"
    },
    "language_info": {
      "name": "python"
    }
  },
  "cells": [
    {
      "cell_type": "markdown",
      "metadata": {
        "id": "view-in-github",
        "colab_type": "text"
      },
      "source": [
        "<a href=\"https://colab.research.google.com/github/Seo-jiyun/BCP-Class-2022/blob/main/myFunctions.ipynb\" target=\"_parent\"><img src=\"https://colab.research.google.com/assets/colab-badge.svg\" alt=\"Open In Colab\"/></a>"
      ]
    },
    {
      "cell_type": "markdown",
      "source": [
        ""
      ],
      "metadata": {
        "id": "XX1SYorBDGRx"
      }
    },
    {
      "cell_type": "markdown",
      "source": [
        "hello_3.py"
      ],
      "metadata": {
        "id": "vzz9ZigXDLNo"
      }
    },
    {
      "cell_type": "code",
      "execution_count": null,
      "metadata": {
        "colab": {
          "base_uri": "https://localhost:8080/"
        },
        "id": "3ki7axClCURD",
        "outputId": "48f60133-3115-4191-ff47-30bcbe69c7ef"
      },
      "outputs": [
        {
          "output_type": "stream",
          "name": "stdout",
          "text": [
            "Hello World!\n",
            "Hello World\n"
          ]
        }
      ],
      "source": [
        "def DoubleHello():\n",
        "  print('Hello World!')\n",
        "  print('Hello World')\n",
        "\n",
        "DoubleHello()"
      ]
    },
    {
      "cell_type": "markdown",
      "source": [
        "hello_4.py"
      ],
      "metadata": {
        "id": "unw--NwvC5_w"
      }
    },
    {
      "cell_type": "code",
      "source": [
        "!pip install import_ipynb"
      ],
      "metadata": {
        "colab": {
          "base_uri": "https://localhost:8080/"
        },
        "id": "ZfNwS7inC4kp",
        "outputId": "8ed30449-ea08-4543-d9ea-65ea9c7eb00a"
      },
      "execution_count": null,
      "outputs": [
        {
          "output_type": "stream",
          "name": "stdout",
          "text": [
            "Requirement already satisfied: import_ipynb in /usr/local/lib/python3.7/dist-packages (0.1.3)\n"
          ]
        }
      ]
    },
    {
      "cell_type": "code",
      "source": [
        "import import_ipynb"
      ],
      "metadata": {
        "id": "idXS8akhDOnh"
      },
      "execution_count": null,
      "outputs": []
    },
    {
      "cell_type": "code",
      "source": [
        "from google.colab import drive\n",
        "drive.mount('/content/drive')"
      ],
      "metadata": {
        "colab": {
          "base_uri": "https://localhost:8080/"
        },
        "id": "873Dd_HeDaCN",
        "outputId": "4c49a9c9-c55d-468e-feca-0eeaa7cc5300"
      },
      "execution_count": null,
      "outputs": [
        {
          "output_type": "stream",
          "name": "stdout",
          "text": [
            "Drive already mounted at /content/drive; to attempt to forcibly remount, call drive.mount(\"/content/drive\", force_remount=True).\n"
          ]
        }
      ]
    },
    {
      "cell_type": "code",
      "source": [
        "!pwd"
      ],
      "metadata": {
        "colab": {
          "base_uri": "https://localhost:8080/"
        },
        "id": "IYyXuAb5EHEp",
        "outputId": "6278a678-dfde-47fd-cd69-54ff279a54b2"
      },
      "execution_count": null,
      "outputs": [
        {
          "output_type": "stream",
          "name": "stdout",
          "text": [
            "/content/drive/My Drive/Colab Notebooks\n"
          ]
        }
      ]
    },
    {
      "cell_type": "code",
      "source": [
        "%cd drive/My\\ Drive/Colab Notebooks"
      ],
      "metadata": {
        "colab": {
          "base_uri": "https://localhost:8080/"
        },
        "id": "JU32WoyGEQnJ",
        "outputId": "8374b5e3-a0b1-4b63-9f65-3b1ba85acaf5"
      },
      "execution_count": null,
      "outputs": [
        {
          "output_type": "stream",
          "name": "stdout",
          "text": [
            "[Errno 2] No such file or directory: 'drive/My Drive/Colab Notebooks'\n",
            "/content/drive/My Drive/Colab Notebooks\n"
          ]
        }
      ]
    },
    {
      "cell_type": "code",
      "source": [
        "!pwd"
      ],
      "metadata": {
        "colab": {
          "base_uri": "https://localhost:8080/"
        },
        "id": "ghRQiAidEl-H",
        "outputId": "dc7b19cf-047c-4fa6-90a2-65be223804ab"
      },
      "execution_count": null,
      "outputs": [
        {
          "output_type": "stream",
          "name": "stdout",
          "text": [
            "/content/drive/My Drive/Colab Notebooks\n"
          ]
        }
      ]
    },
    {
      "cell_type": "code",
      "source": [
        "ls"
      ],
      "metadata": {
        "colab": {
          "base_uri": "https://localhost:8080/"
        },
        "id": "et6Z0V2SEvpw",
        "outputId": "4e1640e3-e498-4080-e23f-bf7cedb1a0a0"
      },
      "execution_count": null,
      "outputs": [
        {
          "output_type": "stream",
          "name": "stdout",
          "text": [
            "'myFunctions (1).ipynb'   Untitled          Untitled1.ipynb\n",
            " myFunctions.ipynb        Untitled0.ipynb\n"
          ]
        }
      ]
    },
    {
      "cell_type": "markdown",
      "source": [
        "hello_4.py"
      ],
      "metadata": {
        "id": "EZbJdSlIFMp9"
      }
    },
    {
      "cell_type": "code",
      "source": [
        "import myFunctions\n",
        "\n",
        "myFunctions.DoubleHello()"
      ],
      "metadata": {
        "colab": {
          "base_uri": "https://localhost:8080/"
        },
        "id": "cUUFh45xFBgv",
        "outputId": "f9b98d5e-cd58-4be7-ef52-6954bd21e233"
      },
      "execution_count": null,
      "outputs": [
        {
          "output_type": "stream",
          "name": "stdout",
          "text": [
            "Hello Word!\n",
            "Hello World\n"
          ]
        }
      ]
    },
    {
      "cell_type": "markdown",
      "source": [
        "roundEx.py"
      ],
      "metadata": {
        "id": "1JkSZO2ZKnjs"
      }
    },
    {
      "cell_type": "code",
      "source": [
        "# ---------------import statements\n",
        "import math\n",
        "\n",
        "# Function definitions\n",
        "def DoubleHello():\n",
        "  print('Hello World!')\n",
        "  print('Hello World')\n",
        "\n",
        "\n",
        "# main program\n",
        "ceil_result = math.ceil(3.14)\n",
        "print(ceil_result)\n",
        "DoubleHello()"
      ],
      "metadata": {
        "colab": {
          "base_uri": "https://localhost:8080/"
        },
        "id": "WWs8dyNCKNIV",
        "outputId": "bc4ca737-354f-433c-f80a-529f38bebcf5"
      },
      "execution_count": null,
      "outputs": [
        {
          "output_type": "stream",
          "name": "stdout",
          "text": [
            "4\n",
            "Hello World!\n",
            "Hello World\n"
          ]
        }
      ]
    }
  ]
}