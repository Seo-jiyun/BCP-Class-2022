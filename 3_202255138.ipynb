{
  "nbformat": 4,
  "nbformat_minor": 0,
  "metadata": {
    "colab": {
      "name": "3-202255138.ipynb",
      "provenance": [],
      "collapsed_sections": [],
      "authorship_tag": "ABX9TyNPZFBcLPq8qFa3bV+psr2m",
      "include_colab_link": true
    },
    "kernelspec": {
      "name": "python3",
      "display_name": "Python 3"
    },
    "language_info": {
      "name": "python"
    }
  },
  "cells": [
    {
      "cell_type": "markdown",
      "metadata": {
        "id": "view-in-github",
        "colab_type": "text"
      },
      "source": [
        "<a href=\"https://colab.research.google.com/github/Seo-jiyun/BCP-Class-2022/blob/main/3_202255138.ipynb\" target=\"_parent\"><img src=\"https://colab.research.google.com/assets/colab-badge.svg\" alt=\"Open In Colab\"/></a>"
      ]
    },
    {
      "cell_type": "code",
      "execution_count": null,
      "metadata": {
        "colab": {
          "base_uri": "https://localhost:8080/"
        },
        "id": "NOfuV70bXAOs",
        "outputId": "6b3e8a76-738c-43a2-852a-f44f80710c6c"
      },
      "outputs": [
        {
          "output_type": "stream",
          "name": "stdout",
          "text": [
            "숫자 세 개를 입력하세요: 1 2 3\n",
            "6\n",
            "2.0\n"
          ]
        }
      ],
      "source": [
        "a, b, c = input('숫자 세 개를 입력하세요: ').split()\n",
        "a = int(a)\n",
        "b = int(b)\n",
        "c = int(c)\n",
        "print(a + b + c)\n",
        "print((a + b + c)/3)"
      ]
    }
  ]
}